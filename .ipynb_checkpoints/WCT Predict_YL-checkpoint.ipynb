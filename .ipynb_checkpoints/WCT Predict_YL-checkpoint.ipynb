{
 "cells": [
  {
   "cell_type": "markdown",
   "metadata": {},
   "source": [
    "# Web Scrapping"
   ]
  },
  {
   "cell_type": "markdown",
   "metadata": {},
   "source": [
    "## Method 1: Selenium"
   ]
  },
  {
   "cell_type": "markdown",
   "metadata": {},
   "source": [
    "https://stackoverflow.com/questions/52448137/python-selenium-scrape-the-whole-table"
   ]
  },
  {
   "cell_type": "code",
   "execution_count": 5,
   "metadata": {
    "ExecuteTime": {
     "end_time": "2020-01-17T00:29:31.002784Z",
     "start_time": "2020-01-17T00:29:13.697529Z"
    }
   },
   "outputs": [],
   "source": [
    "from selenium import webdriver\n",
    "from selenium.webdriver.common.by import By\n",
    "from selenium.webdriver.support.ui import WebDriverWait\n",
    "from selenium.webdriver.support import expected_conditions as EC\n",
    "from selenium.common.exceptions import TimeoutException\n",
    "from datetime import date\n",
    "\n",
    "d = webdriver.Chrome('C:/webdriver/chromedriver.exe') \n",
    "d.get('https://www.investing.com/equities/wct-holdings-bhd-historical-data')\n",
    "\n",
    "while True:\n",
    "    try:  #attempt to dismiss banners that could block later clicks\n",
    "        WebDriverWait(d, 10).until(EC.element_to_be_clickable((By.CSS_SELECTOR, \".closer\"))).click()\n",
    "        d.find_element_by_css_selector('.closer').click()\n",
    "    except TimeoutException:\n",
    "        break\n",
    "        print(\"waiting no enough\")"
   ]
  },
  {
   "cell_type": "code",
   "execution_count": 6,
   "metadata": {
    "ExecuteTime": {
     "end_time": "2020-01-17T00:29:32.133849Z",
     "start_time": "2020-01-17T00:29:31.007795Z"
    }
   },
   "outputs": [],
   "source": [
    "element = d.find_element_by_id('widgetFieldDateRange') #show the date picker\n",
    "webdriver.ActionChains(d).move_to_element(element ).click(element ).perform()"
   ]
  },
  {
   "cell_type": "code",
   "execution_count": 7,
   "metadata": {
    "ExecuteTime": {
     "end_time": "2020-01-17T00:29:32.556834Z",
     "start_time": "2020-01-17T00:29:32.136832Z"
    }
   },
   "outputs": [],
   "source": [
    "sDate  = d.find_element_by_id('startDate') # set start date input element into variable\n",
    "sDate.clear() #clear existing entry\n",
    "sDate.send_keys('01/01/2018') #add custom entry\n",
    "eDate = d.find_element_by_id('endDate') #repeat for end date\n",
    "eDate.clear()\n",
    "eDate.send_keys(date.today().strftime('%m/%d/%Y'))"
   ]
  },
  {
   "cell_type": "code",
   "execution_count": 8,
   "metadata": {
    "ExecuteTime": {
     "end_time": "2020-01-17T00:29:32.648078Z",
     "start_time": "2020-01-17T00:29:32.560343Z"
    }
   },
   "outputs": [],
   "source": [
    "d.find_element_by_id('applyBtn').click() #submit changes"
   ]
  },
  {
   "cell_type": "code",
   "execution_count": 10,
   "metadata": {
    "ExecuteTime": {
     "end_time": "2020-01-17T00:31:25.338699Z",
     "start_time": "2020-01-17T00:29:32.651586Z"
    }
   },
   "outputs": [],
   "source": [
    "AllData = []\n",
    "\n",
    "for table in WebDriverWait(d,10).until(EC.visibility_of_all_elements_located((By.XPATH,'//*[contains(@id,\"results_box\")]//tr'))):\n",
    "    data = [item.text for item in table.find_elements_by_xpath(\".//*[self::td or self::th]\")]\n",
    "    AllData.append(data)\n",
    "    \n",
    "#d.quit()"
   ]
  },
  {
   "cell_type": "code",
   "execution_count": 11,
   "metadata": {},
   "outputs": [],
   "source": [
    "d.get('https://www.investing.com/equities/wct-holdings-bhd-related-indices')\n",
    "\n",
    "while True:\n",
    "    try:  #attempt to dismiss banners that could block later clicks\n",
    "        WebDriverWait(d, 10).until(EC.element_to_be_clickable((By.CSS_SELECTOR, \".closer\"))).click()\n",
    "        d.find_element_by_css_selector('.closer').click()\n",
    "    except TimeoutException:\n",
    "        break\n",
    "        print(\"waiting no enough\")\n",
    "\n",
    "relatedIndices = []\n",
    "\n",
    "for table in WebDriverWait(d,10).until(EC.visibility_of_all_elements_located((By.XPATH,'//*[contains(@id,\"stock_component_of_indices\")]//tr'))):\n",
    "    indices = [item.text for item in table.find_elements_by_xpath(\".//*[self::td or self::th]\")]\n",
    "    relatedIndices.append(indices)"
   ]
  },
  {
   "cell_type": "code",
   "execution_count": 51,
   "metadata": {},
   "outputs": [
    {
     "data": {
      "text/html": [
       "<div>\n",
       "<style scoped>\n",
       "    .dataframe tbody tr th:only-of-type {\n",
       "        vertical-align: middle;\n",
       "    }\n",
       "\n",
       "    .dataframe tbody tr th {\n",
       "        vertical-align: top;\n",
       "    }\n",
       "\n",
       "    .dataframe thead th {\n",
       "        text-align: right;\n",
       "    }\n",
       "</style>\n",
       "<table border=\"1\" class=\"dataframe\">\n",
       "  <thead>\n",
       "    <tr style=\"text-align: right;\">\n",
       "      <th></th>\n",
       "      <th>indices</th>\n",
       "      <th>last</th>\n",
       "      <th>high</th>\n",
       "      <th>low</th>\n",
       "      <th>change</th>\n",
       "      <th>change_percent</th>\n",
       "      <th>date</th>\n",
       "    </tr>\n",
       "  </thead>\n",
       "  <tbody>\n",
       "    <tr>\n",
       "      <th>1</th>\n",
       "      <td>KL Construction</td>\n",
       "      <td>211.67</td>\n",
       "      <td>214.69</td>\n",
       "      <td>210.47</td>\n",
       "      <td>+1.09</td>\n",
       "      <td>+0.52%</td>\n",
       "      <td>2020-01-17</td>\n",
       "    </tr>\n",
       "  </tbody>\n",
       "</table>\n",
       "</div>"
      ],
      "text/plain": [
       "           indices    last    high     low change change_percent       date\n",
       "1  KL Construction  211.67  214.69  210.47  +1.09         +0.52% 2020-01-17"
      ]
     },
     "execution_count": 51,
     "metadata": {},
     "output_type": "execute_result"
    }
   ],
   "source": [
    "import pandas as pd\n",
    "data = pd.DataFrame(AllData, columns = ['date','price','open price','high price','low price','volume','percent'])\n",
    "relatedIndicesDF = pd.DataFrame(relatedIndices, columns = ['country','indices','last','high','low','change','change_percent','date','nothing'])\n",
    "\n",
    "data.drop(data.tail(1).index,inplace=True)\n",
    "data.drop(data.head(1).index,inplace=True)\n",
    "data.date = pd.to_datetime(data['date'])\n",
    "data = data.reset_index()\n",
    "relatedIndicesDF.drop(relatedIndicesDF.head(1).index,inplace=True)\n",
    "relatedIndicesDF.date = relatedIndicesDF.date + str('/2020')\n",
    "relatedIndicesDF.date = pd.to_datetime(relatedIndicesDF['date'], format= \"%d/%m/%Y\")\n",
    "relatedIndicesDF = relatedIndicesDF.drop(['country','nothing'], axis = 1) \n",
    "relatedIndicesDF"
   ]
  },
  {
   "cell_type": "code",
   "execution_count": 53,
   "metadata": {},
   "outputs": [
    {
     "data": {
      "text/html": [
       "<div>\n",
       "<style scoped>\n",
       "    .dataframe tbody tr th:only-of-type {\n",
       "        vertical-align: middle;\n",
       "    }\n",
       "\n",
       "    .dataframe tbody tr th {\n",
       "        vertical-align: top;\n",
       "    }\n",
       "\n",
       "    .dataframe thead th {\n",
       "        text-align: right;\n",
       "    }\n",
       "</style>\n",
       "<table border=\"1\" class=\"dataframe\">\n",
       "  <thead>\n",
       "    <tr style=\"text-align: right;\">\n",
       "      <th></th>\n",
       "      <th>indices</th>\n",
       "      <th>last</th>\n",
       "      <th>high</th>\n",
       "      <th>low</th>\n",
       "      <th>change</th>\n",
       "      <th>change_percent</th>\n",
       "      <th>date</th>\n",
       "    </tr>\n",
       "  </thead>\n",
       "  <tbody>\n",
       "    <tr>\n",
       "      <th>1</th>\n",
       "      <td>KL Construction</td>\n",
       "      <td>211.67</td>\n",
       "      <td>214.69</td>\n",
       "      <td>210.47</td>\n",
       "      <td>+1.09</td>\n",
       "      <td>+0.52%</td>\n",
       "      <td>2020-01-17</td>\n",
       "    </tr>\n",
       "  </tbody>\n",
       "</table>\n",
       "</div>"
      ],
      "text/plain": [
       "           indices    last    high     low change change_percent       date\n",
       "1  KL Construction  211.67  214.69  210.47  +1.09         +0.52% 2020-01-17"
      ]
     },
     "execution_count": 53,
     "metadata": {},
     "output_type": "execute_result"
    }
   ],
   "source": [
    "relatedIndicesDF"
   ]
  },
  {
   "cell_type": "markdown",
   "metadata": {},
   "source": [
    "## Method 2: Beautiful Soup"
   ]
  },
  {
   "cell_type": "raw",
   "metadata": {
    "ExecuteTime": {
     "end_time": "2020-01-14T09:42:02.592023Z",
     "start_time": "2020-01-14T09:42:01.866590Z"
    }
   },
   "source": [
    "import requests\n",
    "from bs4 import BeautifulSoup as BeautifulSoup\n",
    "import lxml.html as lh"
   ]
  },
  {
   "cell_type": "raw",
   "metadata": {
    "ExecuteTime": {
     "end_time": "2020-01-14T09:43:37.900004Z",
     "start_time": "2020-01-14T09:43:37.886969Z"
    }
   },
   "source": [
    "from urllib.request import Request, urlopen\n",
    "\n",
    "req = Request('https://www.investing.com/equities/wct-holdings-bhd-historical-data', headers={'User-Agent': 'Mozilla/5.0'})\n",
    "webpage = urlopen(req).read()\n",
    "soup = BeautifulSoup(webpage,'lxml')\n",
    "\n",
    "My_table = soup.find('table')\n",
    "links = My_table.findAll('td')\n",
    "\n",
    "data = []\n",
    "for link in links:\n",
    "    data.append(link.get('data-real-value'))\n",
    "    \n",
    "chunks = [data[x:x+7] for x in range(0, len(data), 7)]\n",
    "\n",
    "import pandas as pd\n",
    "data = pd.DataFrame(chunks, columns = ['date','price','open price','high price','low price','volume','percent'])\n",
    "data.date = [int(i) for i in data.date] \n",
    "data.date = pd.to_datetime(data['date'], unit='s')"
   ]
  },
  {
   "cell_type": "markdown",
   "metadata": {},
   "source": [
    "# MACD"
   ]
  },
  {
   "cell_type": "code",
   "execution_count": null,
   "metadata": {
    "ExecuteTime": {
     "end_time": "2020-01-17T00:31:31.029585Z",
     "start_time": "2020-01-17T00:31:31.024571Z"
    }
   },
   "outputs": [],
   "source": [
    "def myEWMA(df, column, span):\n",
    "    revert_price_upside_down = df[column][::-1]\n",
    "    sma = revert_price_upside_down.rolling(window=span, min_periods=span).mean()[:span]\n",
    "    rest = revert_price_upside_down[span:]\n",
    "    ewma = pd.concat([sma, rest]).ewm(span=span, adjust=False).mean()\n",
    "    return ewma"
   ]
  },
  {
   "cell_type": "code",
   "execution_count": null,
   "metadata": {
    "ExecuteTime": {
     "end_time": "2020-01-17T00:31:31.116200Z",
     "start_time": "2020-01-17T00:31:31.032592Z"
    }
   },
   "outputs": [],
   "source": [
    "#spanList = [12, 26, 9]\n",
    "spanList = [5, 35, 5]\n",
    "data[f'EWMA_{spanList[0]}'] = myEWMA(data, 'price', spanList[0])\n",
    "data[f'EWMA_{spanList[1]}'] = myEWMA(data, 'price', spanList[1])\n",
    "data['MACD'] = data[f'EWMA_{spanList[0]}'] - data[f'EWMA_{spanList[1]}']\n",
    "data[f'MACD_{spanList[2]}'] = myEWMA(data, 'MACD', spanList[2])"
   ]
  },
  {
   "cell_type": "code",
   "execution_count": null,
   "metadata": {
    "ExecuteTime": {
     "end_time": "2020-01-17T00:31:44.728985Z",
     "start_time": "2020-01-17T00:31:31.118206Z"
    }
   },
   "outputs": [],
   "source": [
    "import plotly.graph_objects as go\n",
    "from plotly.subplots import make_subplots\n",
    "import plotly.figure_factory as ff\n",
    "import plotly.io as pio\n",
    "pio.renderers.default = \"browser\"\n",
    "\n",
    "layout = go.Layout(title= \"WCT\",\n",
    "                  hovermode= 'closest',\n",
    "                   hoverdistance = -1,\n",
    "                   spikedistance = -1,\n",
    "                  xaxis= {'showspikes': True,\n",
    "                         'spikemode':'toaxis+across+marker',\n",
    "                         'automargin' : True},\n",
    "                   yaxis= {'showspikes': True,\n",
    "                         'spikemode':'toaxis+across',\n",
    "                         'automargin' : True}\n",
    "                  )\n",
    "# subplot setupt\n",
    "fig = make_subplots(\n",
    "    rows=3, cols=1, shared_xaxes=True, vertical_spacing = 0.01,\n",
    "    specs = [[{\"rowspan\": 2}],[{}],[{}]]\n",
    ")\n",
    "\n",
    "fig.add_trace(go.Scatter(x = data['date'],\n",
    "                         y = data['price'],\n",
    "                         mode = \"lines\",\n",
    "                         marker={\"color\": \"black\"},\n",
    "                         name = \"Closing price\",\n",
    "                         showlegend=False),\n",
    "                         row = 1, col = 1)\n",
    "\n",
    "fig.add_trace(go.Scatter(x = data['date'],\n",
    "                         y = data[f\"EWMA_{spanList[0]}\"],\n",
    "                         mode = \"lines\",\n",
    "                         marker={\"color\": \"blue\"},\n",
    "                         name = f\"EWMA_{spanList[0]}\"),\n",
    "                         row = 1, col = 1)\n",
    "\n",
    "fig.add_trace(go.Scatter(x = data['date'],\n",
    "                         y = data[f\"EWMA_{spanList[1]}\"],\n",
    "                         mode = \"lines\",\n",
    "                         marker={\"color\": \"red\"},\n",
    "                         name = f\"EWMA_{spanList[1]}\"),\n",
    "                         row = 1, col = 1)\n",
    "\n",
    "fig.add_trace(go.Scatter(x = data['date'],\n",
    "                         y = data['MACD'],\n",
    "                         mode=\"lines\",\n",
    "                         marker={\"color\":'red'},\n",
    "                         name=\"MACD\"),\n",
    "                         row = 3, col = 1)\n",
    "\n",
    "fig.add_trace(go.Scatter(x = data['date'],\n",
    "                         y = data[f\"MACD_{spanList[2]}\"],\n",
    "                         mode = \"lines\",\n",
    "                         marker={\"color\": \"blue\"},\n",
    "                         name = f\"MACD_{spanList[2]}\"),\n",
    "                         row = 3, col = 1)\n",
    "\n",
    "fig.add_trace(go.Scatter(x = data['date'],\n",
    "                         y = [0]*len(data.index),\n",
    "                         mode = \"lines\",\n",
    "                         line=go.scatter.Line(color=\"gray\"),\n",
    "                         name = \"threhold\",\n",
    "                         showlegend=False),\n",
    "                         row = 3, col = 1)\n",
    "\n",
    "#fig.update_yaxes(range=[1,1], tickfont=dict(color='rgba(0,0,0,0)', size=14), row=3, col=2)\n",
    "fig.update_xaxes(showgrid=False,\n",
    "                 showspikes= True,\n",
    "                 spikemode='toaxis+across',\n",
    "                 automargin = True, row=3, col=1)\n",
    "fig.update_yaxes(showgrid=False,\n",
    "                 showspikes= True,\n",
    "                 spikemode='toaxis+across',\n",
    "                 automargin = True, title = 'MACD', side = 'right', row=3, col=1)\n",
    "fig.update_layout(layout)\n",
    "\n",
    "fig.show()\n"
   ]
  },
  {
   "cell_type": "markdown",
   "metadata": {
    "ExecuteTime": {
     "end_time": "2020-01-16T05:29:22.297531Z",
     "start_time": "2020-01-16T05:29:22.189327Z"
    }
   },
   "source": [
    "if MACD Crossover occurs and price after 2 day - price at crossover > 0% give reward =1, else: -1, other put 0\n",
    "total up reward = 1 vs reward = -1"
   ]
  },
  {
   "cell_type": "code",
   "execution_count": null,
   "metadata": {
    "ExecuteTime": {
     "end_time": "2020-01-17T00:31:44.895663Z",
     "start_time": "2020-01-17T00:31:44.736012Z"
    }
   },
   "outputs": [],
   "source": [
    "import numpy as np\n",
    "data['MACD_crossover'] = abs(data['MACD']) - abs(data[f'MACD_{spanList[2]}'])\n",
    "#data['crossover'] = [\"Negative Crossover\" if (i > 0) & (np.abs(i) < 0.008) else \n",
    "#                     \"Positive Crossover\" if (i < 0) & (np.abs(i) < 0.008) else \"noCO\" \n",
    "#                     for i in data.MACD_crossover]\n",
    "\n",
    "crossover = []\n",
    "for i in range(len(data.MACD_crossover)):\n",
    "    if (np.abs(data.MACD_crossover[i]) < 0.008) & (data.MACD_crossover.shift(-2)[i] > 0):\n",
    "        crossover.append(\"Positive Crossover\")\n",
    "    elif (np.abs(data.MACD_crossover[i]) < 0.008) & (data.MACD_crossover.shift(-2)[i] < 0):\n",
    "        crossover.append(\"Negative Crossover\")\n",
    "    else: crossover.append(\"No Crossover\")\n",
    "data['crossover'] = crossover"
   ]
  },
  {
   "cell_type": "markdown",
   "metadata": {},
   "source": [
    "Compute True Positive of CrossOver: if after 2day price % change >0.005, then true positive"
   ]
  },
  {
   "cell_type": "code",
   "execution_count": null,
   "metadata": {
    "ExecuteTime": {
     "end_time": "2020-01-17T00:31:44.905652Z",
     "start_time": "2020-01-17T00:31:44.897632Z"
    }
   },
   "outputs": [],
   "source": [
    "data = data[::-1].reset_index()"
   ]
  },
  {
   "cell_type": "code",
   "execution_count": null,
   "metadata": {
    "ExecuteTime": {
     "end_time": "2020-01-17T00:31:44.956825Z",
     "start_time": "2020-01-17T00:31:44.908660Z"
    }
   },
   "outputs": [],
   "source": [
    "data['2dayPriceChange'] = data.price.astype(float).pct_change(periods = 2).shift(-2)\n",
    "\n",
    "truePositive = []\n",
    "for i in range(len(data.crossover)): \n",
    "    if (data.crossover[i] == \"Positive Crossover\") and (data['2dayPriceChange'][i] > 0):\n",
    "        truePositive.append(\"TP\")\n",
    "    elif data.crossover[i] == \"Negative Crossover\" and data['2dayPriceChange'][i] < 0:\n",
    "        truePositive.append(\"TN\")\n",
    "    elif data.crossover[i] == \"Positive Crossover\" and data['2dayPriceChange'][i] < 0:\n",
    "        truePositive.append(\"FN\")\n",
    "    elif data.crossover[i] == \"Negative Crossover\" and data['2dayPriceChange'][i] > 0:\n",
    "        truePositive.append(\"FP\")\n",
    "    else: truePositive.append(\"null\")\n",
    "\n",
    "data['truePositive'] = truePositive"
   ]
  },
  {
   "cell_type": "code",
   "execution_count": null,
   "metadata": {
    "ExecuteTime": {
     "end_time": "2020-01-17T00:31:45.040042Z",
     "start_time": "2020-01-17T00:31:44.958795Z"
    },
    "scrolled": true
   },
   "outputs": [],
   "source": [
    "data.loc[data.truePositive == \"TP\",['date', 'crossover','truePositive','2dayPriceChange']]"
   ]
  },
  {
   "cell_type": "code",
   "execution_count": null,
   "metadata": {
    "ExecuteTime": {
     "end_time": "2020-01-17T00:34:27.273743Z",
     "start_time": "2020-01-17T00:34:27.258599Z"
    }
   },
   "outputs": [],
   "source": [
    "data[['crossover','truePositive','date']].groupby(['crossover','truePositive']).count()"
   ]
  },
  {
   "cell_type": "code",
   "execution_count": null,
   "metadata": {
    "ExecuteTime": {
     "end_time": "2020-01-17T04:04:24.854203Z",
     "start_time": "2020-01-17T04:04:24.839163Z"
    }
   },
   "outputs": [],
   "source": [
    "data.loc[((data.truePositive == \"null\") & (data.crossover == \"Positive Crossover\")),['date','crossover','2dayPriceChange']]"
   ]
  }
 ],
 "metadata": {
  "kernelspec": {
   "display_name": "Python 3",
   "language": "python",
   "name": "python3"
  },
  "language_info": {
   "codemirror_mode": {
    "name": "ipython",
    "version": 3
   },
   "file_extension": ".py",
   "mimetype": "text/x-python",
   "name": "python",
   "nbconvert_exporter": "python",
   "pygments_lexer": "ipython3",
   "version": "3.7.3"
  },
  "toc": {
   "base_numbering": 1,
   "nav_menu": {},
   "number_sections": true,
   "sideBar": true,
   "skip_h1_title": false,
   "title_cell": "Table of Contents",
   "title_sidebar": "Contents",
   "toc_cell": false,
   "toc_position": {
    "height": "calc(100% - 180px)",
    "left": "10px",
    "top": "150px",
    "width": "165px"
   },
   "toc_section_display": true,
   "toc_window_display": true
  }
 },
 "nbformat": 4,
 "nbformat_minor": 2
}
